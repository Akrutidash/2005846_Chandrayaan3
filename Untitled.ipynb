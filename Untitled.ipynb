{
 "cells": [
  {
   "cell_type": "code",
   "execution_count": 1,
   "id": "739d45b7",
   "metadata": {},
   "outputs": [
    {
     "name": "stdout",
     "output_type": "stream",
     "text": [
      "Final Position: (0, 1, 0)\n",
      "Final Direction: Up\n"
     ]
    }
   ],
   "source": [
    "class LunarSpacecraft:\n",
    "    def __init__(self, initial_position, initial_direction):\n",
    "        self.position = initial_position\n",
    "        self.direction = initial_direction\n",
    "\n",
    "    def move_forward(self):\n",
    "        if self.direction == 'N':\n",
    "            self.position = (self.position[0], self.position[1] + 1, self.position[2])\n",
    "        elif self.direction == 'S':\n",
    "            self.position = (self.position[0], self.position[1] - 1, self.position[2])\n",
    "        elif self.direction == 'E':\n",
    "            self.position = (self.position[0] + 1, self.position[1], self.position[2])\n",
    "        elif self.direction == 'W':\n",
    "            self.position = (self.position[0] - 1, self.position[1], self.position[2])\n",
    "\n",
    "    def move_backward(self):\n",
    "        if self.direction == 'N':\n",
    "            self.position = (self.position[0], self.position[1] - 1, self.position[2])\n",
    "        elif self.direction == 'S':\n",
    "            self.position = (self.position[0], self.position[1] + 1, self.position[2])\n",
    "        elif self.direction == 'E':\n",
    "            self.position = (self.position[0] - 1, self.position[1], self.position[2])\n",
    "        elif self.direction == 'W':\n",
    "            self.position = (self.position[0] + 1, self.position[1], self.position[2])\n",
    "\n",
    "    def turn_left(self):\n",
    "        if self.direction == 'N':\n",
    "            self.direction = 'W'\n",
    "        elif self.direction == 'S':\n",
    "            self.direction = 'E'\n",
    "        elif self.direction == 'E':\n",
    "            self.direction = 'N'\n",
    "        elif self.direction == 'W':\n",
    "            self.direction = 'S'\n",
    "\n",
    "    def turn_right(self):\n",
    "        if self.direction == 'N':\n",
    "            self.direction = 'E'\n",
    "        elif self.direction == 'S':\n",
    "            self.direction = 'W'\n",
    "        elif self.direction == 'E':\n",
    "            self.direction = 'S'\n",
    "        elif self.direction == 'W':\n",
    "            self.direction = 'N'\n",
    "\n",
    "    def turn_up(self):\n",
    "        if self.direction != 'Up':\n",
    "            self.direction = 'Up'\n",
    "\n",
    "    def turn_down(self):\n",
    "        if self.direction != 'Down':\n",
    "            self.direction = 'Down'\n",
    "\n",
    "    def execute_commands(self, commands):\n",
    "        for command in commands:\n",
    "            if command == 'f':\n",
    "                self.move_forward()\n",
    "            elif command == 'b':\n",
    "                self.move_backward()\n",
    "            elif command == 'l':\n",
    "                self.turn_left()\n",
    "            elif command == 'r':\n",
    "                self.turn_right()\n",
    "            elif command == 'u':\n",
    "                self.turn_up()\n",
    "            elif command == 'd':\n",
    "                self.turn_down()\n",
    "\n",
    "\n",
    "# Example usage\n",
    "initial_position = (0, 0, 0)\n",
    "initial_direction = 'N'\n",
    "commands = [\"f\", \"r\", \"u\", \"b\", \"l\"]\n",
    "\n",
    "chandrayaan = LunarSpacecraft(initial_position, initial_direction)\n",
    "chandrayaan.execute_commands(commands)\n",
    "print(\"Final Position:\", chandrayaan.position)\n",
    "print(\"Final Direction:\", chandrayaan.direction)\n"
   ]
  },
  {
   "cell_type": "code",
   "execution_count": null,
   "id": "96e2dd3a",
   "metadata": {},
   "outputs": [],
   "source": []
  }
 ],
 "metadata": {
  "kernelspec": {
   "display_name": "Python 3 (ipykernel)",
   "language": "python",
   "name": "python3"
  },
  "language_info": {
   "codemirror_mode": {
    "name": "ipython",
    "version": 3
   },
   "file_extension": ".py",
   "mimetype": "text/x-python",
   "name": "python",
   "nbconvert_exporter": "python",
   "pygments_lexer": "ipython3",
   "version": "3.9.13"
  }
 },
 "nbformat": 4,
 "nbformat_minor": 5
}
